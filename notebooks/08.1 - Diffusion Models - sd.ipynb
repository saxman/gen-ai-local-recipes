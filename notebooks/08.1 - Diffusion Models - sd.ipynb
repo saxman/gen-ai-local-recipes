{
 "cells": [
  {
   "cell_type": "code",
   "execution_count": null,
   "id": "4f333a61-8df4-4421-9591-cc5ce7b1247b",
   "metadata": {},
   "outputs": [],
   "source": [
    "!pip install --quiet --upgrade diffusers"
   ]
  },
  {
   "cell_type": "code",
   "execution_count": null,
   "id": "b6fe643b-0cb9-47c8-a2fb-bb87024f348e",
   "metadata": {},
   "outputs": [],
   "source": [
    "!pip install --quiet --upgrade accelerate"
   ]
  },
  {
   "cell_type": "code",
   "execution_count": null,
   "id": "41cd3891-da69-4137-967b-d89f7182dd63",
   "metadata": {},
   "outputs": [],
   "source": [
    "!pip install --quiet --upgrade sentencepiece"
   ]
  },
  {
   "cell_type": "code",
   "execution_count": null,
   "id": "aa471305-1bd1-4416-b660-6cd832bf80c0",
   "metadata": {},
   "outputs": [],
   "source": [
    "!pip install --quiet --upgrade protobuf"
   ]
  },
  {
   "cell_type": "code",
   "execution_count": null,
   "id": "1ba26e8a-de23-44a4-a047-8b492ac373f9",
   "metadata": {},
   "outputs": [],
   "source": [
    "import torch\n",
    "from diffusers import StableDiffusion3Pipeline\n",
    "\n",
    "pipeline = StableDiffusion3Pipeline.from_pretrained(\"stabilityai/stable-diffusion-3-medium-diffusers\", torch_dtype=torch.float16).to(\"cuda\")"
   ]
  },
  {
   "cell_type": "code",
   "execution_count": null,
   "id": "c2b049be-aedc-4d56-8329-c9a153a01987",
   "metadata": {},
   "outputs": [],
   "source": [
    "image = pipeline(\n",
    "    \"A cat holding a sign that says hello world\",\n",
    "    negative_prompt=\"\",\n",
    "    num_inference_steps=28,\n",
    "    guidance_scale=7.0,\n",
    ").images[0]\n",
    "\n",
    "image"
   ]
  },
  {
   "cell_type": "code",
   "execution_count": null,
   "id": "9f1823a5-af1c-495c-8784-9f5970d6caa7",
   "metadata": {},
   "outputs": [],
   "source": [
    "import utils\n",
    "utils.print_device_info()\n",
    "# utils.print_model_info(pipe.model) # cannot use since SD pipelines don't have a model referece"
   ]
  },
  {
   "cell_type": "code",
   "execution_count": null,
   "id": "918f7594-fe78-4486-8993-888de5824b77",
   "metadata": {},
   "outputs": [],
   "source": [
    "from diffusers import StableDiffusionXLPipeline\n",
    "\n",
    "pipeline = StableDiffusionXLPipeline.from_pretrained(\n",
    "    \"stabilityai/stable-diffusion-xl-base-1.0\", torch_dtype=torch.float16, variant=\"fp16\", use_safetensors=True\n",
    ").to(\"cuda\")"
   ]
  },
  {
   "cell_type": "code",
   "execution_count": null,
   "id": "be792914-5568-43b1-ba23-4c7a630d7074",
   "metadata": {},
   "outputs": [],
   "source": [
    "image = pipeline(\n",
    "    \"A cat holding a sign that says hello world\",\n",
    "    negative_prompt=\"\",\n",
    "    num_inference_steps=28,\n",
    "    guidance_scale=7.0,\n",
    ").images[0]\n",
    "\n",
    "image"
   ]
  },
  {
   "cell_type": "code",
   "execution_count": null,
   "id": "0efb2586-65c3-44ca-8ab8-c6e042811625",
   "metadata": {},
   "outputs": [],
   "source": [
    "utils.print_device_info()\n",
    "# utils.print_model_info(pipe.model)"
   ]
  },
  {
   "cell_type": "code",
   "execution_count": null,
   "id": "918c9c37-6e8f-4935-8a87-3b46aaa78c03",
   "metadata": {},
   "outputs": [],
   "source": []
  }
 ],
 "metadata": {
  "kernelspec": {
   "display_name": "Python 3 (ipykernel)",
   "language": "python",
   "name": "python3"
  },
  "language_info": {
   "codemirror_mode": {
    "name": "ipython",
    "version": 3
   },
   "file_extension": ".py",
   "mimetype": "text/x-python",
   "name": "python",
   "nbconvert_exporter": "python",
   "pygments_lexer": "ipython3",
   "version": "3.12.3"
  }
 },
 "nbformat": 4,
 "nbformat_minor": 5
}
