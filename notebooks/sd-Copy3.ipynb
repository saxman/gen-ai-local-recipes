{
 "cells": [
  {
   "cell_type": "markdown",
   "id": "fb6b216c-217e-4b58-b9cd-0b1f9e0784c4",
   "metadata": {},
   "source": [
    "https://huggingface.co/docs/diffusers/main/en/using-diffusers/using_safetensors"
   ]
  },
  {
   "cell_type": "code",
   "execution_count": null,
   "id": "1ba26e8a-de23-44a4-a047-8b492ac373f9",
   "metadata": {},
   "outputs": [],
   "source": [
    "from diffusers import StableDiffusionXLPipeline\n",
    "\n",
    "pipeline = StableDiffusionXLPipeline.from_single_file(\n",
    "    \"autismmixSDXL_autismmixDPO.safetensors\",\n",
    "    use_safetensors=True\n",
    ").to('cuda')"
   ]
  },
  {
   "cell_type": "code",
   "execution_count": null,
   "id": "c2b049be-aedc-4d56-8329-c9a153a01987",
   "metadata": {},
   "outputs": [],
   "source": [
    "prompt = \"photorealistic 1girl, pink hair, necklace, (bangs:1.1), side view, (detailed face and eyes:1.2), white background, cute face, vibrant colours, cocky smile, choker, (freckles:0.6), eyeshadow, pigtail buns, round face\"\n",
    "\n",
    "negative_prompt = \"bad hands, too many fingers, fused fingers, mutated hands and fingers, malformed hands\"\n",
    "\n",
    "image = pipeline(\n",
    "    prompt=prompt,\n",
    "    negative_prompt=negative_prompt\n",
    ").images[0]\n",
    "\n",
    "image"
   ]
  },
  {
   "cell_type": "code",
   "execution_count": null,
   "id": "f1a4f9b8-3467-4e15-a73d-05ce485dfbd3",
   "metadata": {},
   "outputs": [],
   "source": []
  }
 ],
 "metadata": {
  "kernelspec": {
   "display_name": "Python 3 (ipykernel)",
   "language": "python",
   "name": "python3"
  },
  "language_info": {
   "codemirror_mode": {
    "name": "ipython",
    "version": 3
   },
   "file_extension": ".py",
   "mimetype": "text/x-python",
   "name": "python",
   "nbconvert_exporter": "python",
   "pygments_lexer": "ipython3",
   "version": "3.12.3"
  }
 },
 "nbformat": 4,
 "nbformat_minor": 5
}
