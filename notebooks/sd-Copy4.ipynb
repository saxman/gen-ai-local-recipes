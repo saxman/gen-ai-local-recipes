{
 "cells": [
  {
   "cell_type": "markdown",
   "id": "fb6b216c-217e-4b58-b9cd-0b1f9e0784c4",
   "metadata": {},
   "source": [
    "https://huggingface.co/docs/diffusers/main/en/using-diffusers/using_safetensors"
   ]
  },
  {
   "cell_type": "code",
   "execution_count": null,
   "id": "1ba26e8a-de23-44a4-a047-8b492ac373f9",
   "metadata": {},
   "outputs": [],
   "source": [
    "from diffusers import StableDiffusionXLPipeline\n",
    "\n",
    "pipeline = StableDiffusionXLPipeline.from_single_file(\n",
    "    \"iniverseMixXLSFWNSFW_ponyV11XLLoraComp.safetensors\",\n",
    "    use_safetensors=True\n",
    ").to('cuda')"
   ]
  },
  {
   "cell_type": "code",
   "execution_count": null,
   "id": "4c21d485-7ac0-4ed3-a16a-46db017d920c",
   "metadata": {},
   "outputs": [],
   "source": [
    "prompt = \"photorealistic 1girl, pink hair, necklace, (bangs:1.1), side view, (detailed face and eyes:1.2), white background, cute face, vibrant colours, cocky smile, choker, (freckles:0.6), eyeshadow, pigtail buns, round face\"\n",
    "\n",
    "negative_prompt = \"worst quality, low quality, normal quality, lowres, bad anatomy, bad hands\"\n",
    "\n",
    "pipeline(\n",
    "    prompt=prompt,\n",
    "    negative_prompt=negative_prompt\n",
    ").images[0]"
   ]
  },
  {
   "cell_type": "code",
   "execution_count": null,
   "id": "a66bba88-9076-4a2b-bfb0-d59103f7fb24",
   "metadata": {},
   "outputs": [],
   "source": [
    "from diffusers import StableDiffusionXLPipeline\n",
    "\n",
    "pipeline = StableDiffusionXLPipeline.from_single_file(\n",
    "    \"cyberrealisticPony_v61.safetensors\",\n",
    "    use_safetensors=True\n",
    ").to('cuda')"
   ]
  },
  {
   "cell_type": "code",
   "execution_count": null,
   "id": "41337787-9079-4354-ae60-fff21db35be0",
   "metadata": {},
   "outputs": [],
   "source": [
    "prompt = \"photorealistic 1girl, pink hair, necklace, (bangs:1.1), side view, (detailed face and eyes:1.2), white background, cute face, vibrant colours, cocky smile, choker, (freckles:0.6), eyeshadow, pigtail buns, round face\"\n",
    "\n",
    "negative_prompt = \"\"\n",
    "\n",
    "pipeline(\n",
    "    prompt=prompt,\n",
    "    negative_prompt=negative_prompt\n",
    ").images[0]"
   ]
  },
  {
   "cell_type": "code",
   "execution_count": null,
   "id": "26a35225-1e85-40e2-a670-5c90d6958757",
   "metadata": {},
   "outputs": [],
   "source": []
  }
 ],
 "metadata": {
  "kernelspec": {
   "display_name": "Python 3 (ipykernel)",
   "language": "python",
   "name": "python3"
  },
  "language_info": {
   "codemirror_mode": {
    "name": "ipython",
    "version": 3
   },
   "file_extension": ".py",
   "mimetype": "text/x-python",
   "name": "python",
   "nbconvert_exporter": "python",
   "pygments_lexer": "ipython3",
   "version": "3.12.3"
  }
 },
 "nbformat": 4,
 "nbformat_minor": 5
}
