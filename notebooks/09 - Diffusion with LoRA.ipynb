{
 "cells": [
  {
   "cell_type": "markdown",
   "id": "2dabf583-1015-4514-9a02-1e6ff9458587",
   "metadata": {},
   "source": [
    "https://huggingface.co/docs/diffusers/en/using-diffusers/other-formats"
   ]
  },
  {
   "cell_type": "code",
   "execution_count": null,
   "id": "4b0c5d67-1736-43de-80b9-f22bd2c5387a",
   "metadata": {},
   "outputs": [],
   "source": [
    "!pip install --quiet --upgrade peft"
   ]
  },
  {
   "cell_type": "code",
   "execution_count": null,
   "id": "c0e50afa-8c6b-4895-becd-be752020176b",
   "metadata": {},
   "outputs": [],
   "source": [
    "import torch\n",
    "from diffusers import AutoPipelineForText2Image\n",
    "\n",
    "model_id = \"stabilityai/stable-diffusion-xl-base-1.0\"\n",
    "\n",
    "pipe = AutoPipelineForText2Image.from_pretrained(\n",
    "    model_id,\n",
    "    torch_dtype=torch.float16,\n",
    "    variant=\"fp16\"\n",
    ").to(\"cuda\")"
   ]
  },
  {
   "cell_type": "code",
   "execution_count": null,
   "id": "6e5616d0-b696-41fb-8bca-01f338cc3444",
   "metadata": {
    "tags": []
   },
   "outputs": [],
   "source": [
    "import utils\n",
    "utils.print_device_info()"
   ]
  },
  {
   "cell_type": "code",
   "execution_count": null,
   "id": "5842e3b8-e687-4192-83d9-90deab16438e",
   "metadata": {},
   "outputs": [],
   "source": [
    "adapter_id = \"ostris/ikea-instructions-lora-sdxl\"\n",
    "pipe.load_lora_weights(adapter_id)\n",
    "# pipe.fuse_lora()"
   ]
  },
  {
   "cell_type": "code",
   "execution_count": null,
   "id": "916dd70c-86f1-4f6d-931b-80616d7f486c",
   "metadata": {},
   "outputs": [],
   "source": [
    "prompt = \"how to sleep\"\n",
    "\n",
    "# disable guidance_scale by passing 0\n",
    "image = pipe(prompt=prompt, num_inference_steps=40).images[0]\n",
    "\n",
    "image"
   ]
  },
  {
   "cell_type": "code",
   "execution_count": null,
   "id": "9c72598a-d18b-4674-86a4-0f515504ded3",
   "metadata": {},
   "outputs": [],
   "source": []
  }
 ],
 "metadata": {
  "kernelspec": {
   "display_name": "Python 3 (ipykernel)",
   "language": "python",
   "name": "python3"
  },
  "language_info": {
   "codemirror_mode": {
    "name": "ipython",
    "version": 3
   },
   "file_extension": ".py",
   "mimetype": "text/x-python",
   "name": "python",
   "nbconvert_exporter": "python",
   "pygments_lexer": "ipython3",
   "version": "3.12.3"
  }
 },
 "nbformat": 4,
 "nbformat_minor": 5
}
