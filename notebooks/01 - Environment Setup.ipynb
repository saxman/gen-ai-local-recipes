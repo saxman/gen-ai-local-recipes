{
 "cells": [
  {
   "cell_type": "markdown",
   "id": "bb0254b8-b3e1-4513-af2d-55898e195ee2",
   "metadata": {},
   "source": [
    "# 01 - Environment Setup\n",
    "\n",
    "This notebook includes steps neceesary to get your local environment set up for accessing generative AI models from services such as [Hugging Face](https://huggingface.co/)."
   ]
  },
  {
   "cell_type": "markdown",
   "id": "f9069865-f596-4f3a-a8c5-cd50c2b04abc",
   "metadata": {},
   "source": [
    "The ipywidgets library is required for rendering progress meters and other notebook widgets, which are used by the huggingface libaray. Jupyter Lab will need to be restarted after the library has been installed, in order for the widgets to render properly."
   ]
  },
  {
   "cell_type": "code",
   "execution_count": 1,
   "id": "945029c1-1d72-4153-b13a-1d7770ea0f99",
   "metadata": {
    "tags": []
   },
   "outputs": [],
   "source": [
    "!pip install --quiet --upgrade ipywidgets"
   ]
  },
  {
   "cell_type": "markdown",
   "id": "86ad510c-fd87-46b9-a7d2-759e08ff145c",
   "metadata": {},
   "source": [
    "The [huggingface_hub library](https://huggingface.co/docs/huggingface_hub/en/index) is used for downloading models from Hugging Face, some of which are gated (i.e. permission is required to access them)."
   ]
  },
  {
   "cell_type": "code",
   "execution_count": 2,
   "id": "4539f037-ad7a-43f2-9a15-f0a028f51f0a",
   "metadata": {},
   "outputs": [],
   "source": [
    "!pip install --quiet --upgrade huggingface_hub"
   ]
  },
  {
   "cell_type": "markdown",
   "id": "771d12c9-187f-4762-a2a2-77bbb92cb66b",
   "metadata": {},
   "source": [
    "Log into Huggingface for accessing gated models (e.g. Meta's Llama models)."
   ]
  },
  {
   "cell_type": "code",
   "execution_count": 3,
   "id": "8847b941-4db6-4e74-8a11-2b3f755174e4",
   "metadata": {},
   "outputs": [
    {
     "data": {
      "application/vnd.jupyter.widget-view+json": {
       "model_id": "a666965e303c40a3a18672df1ff8b5b5",
       "version_major": 2,
       "version_minor": 0
      },
      "text/plain": [
       "VBox(children=(HTML(value='<center> <img\\nsrc=https://huggingface.co/front/assets/huggingface_logo-noborder.sv…"
      ]
     },
     "metadata": {},
     "output_type": "display_data"
    }
   ],
   "source": [
    "from huggingface_hub import login\n",
    "\n",
    "login()"
   ]
  },
  {
   "cell_type": "code",
   "execution_count": null,
   "id": "cbd69ee3-6e34-450b-a9e2-e438c7e3af25",
   "metadata": {},
   "outputs": [],
   "source": []
  }
 ],
 "metadata": {
  "kernelspec": {
   "display_name": "Python 3 (ipykernel)",
   "language": "python",
   "name": "python3"
  },
  "language_info": {
   "codemirror_mode": {
    "name": "ipython",
    "version": 3
   },
   "file_extension": ".py",
   "mimetype": "text/x-python",
   "name": "python",
   "nbconvert_exporter": "python",
   "pygments_lexer": "ipython3",
   "version": "3.12.3"
  }
 },
 "nbformat": 4,
 "nbformat_minor": 5
}
